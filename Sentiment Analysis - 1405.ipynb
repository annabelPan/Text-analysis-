{
 "cells": [
  {
   "cell_type": "markdown",
   "metadata": {},
   "source": [
    "# 1. Import the libraries "
   ]
  },
  {
   "cell_type": "code",
   "execution_count": 1,
   "metadata": {},
   "outputs": [
    {
     "name": "stderr",
     "output_type": "stream",
     "text": [
      "Using TensorFlow backend.\n",
      "C:\\Users\\annab\\Anaconda3\\envs\\ads08\\lib\\site-packages\\tensorflow\\python\\framework\\dtypes.py:526: FutureWarning: Passing (type, 1) or '1type' as a synonym of type is deprecated; in a future version of numpy, it will be understood as (type, (1,)) / '(1,)type'.\n",
      "  _np_qint8 = np.dtype([(\"qint8\", np.int8, 1)])\n",
      "C:\\Users\\annab\\Anaconda3\\envs\\ads08\\lib\\site-packages\\tensorflow\\python\\framework\\dtypes.py:527: FutureWarning: Passing (type, 1) or '1type' as a synonym of type is deprecated; in a future version of numpy, it will be understood as (type, (1,)) / '(1,)type'.\n",
      "  _np_quint8 = np.dtype([(\"quint8\", np.uint8, 1)])\n",
      "C:\\Users\\annab\\Anaconda3\\envs\\ads08\\lib\\site-packages\\tensorflow\\python\\framework\\dtypes.py:528: FutureWarning: Passing (type, 1) or '1type' as a synonym of type is deprecated; in a future version of numpy, it will be understood as (type, (1,)) / '(1,)type'.\n",
      "  _np_qint16 = np.dtype([(\"qint16\", np.int16, 1)])\n",
      "C:\\Users\\annab\\Anaconda3\\envs\\ads08\\lib\\site-packages\\tensorflow\\python\\framework\\dtypes.py:529: FutureWarning: Passing (type, 1) or '1type' as a synonym of type is deprecated; in a future version of numpy, it will be understood as (type, (1,)) / '(1,)type'.\n",
      "  _np_quint16 = np.dtype([(\"quint16\", np.uint16, 1)])\n",
      "C:\\Users\\annab\\Anaconda3\\envs\\ads08\\lib\\site-packages\\tensorflow\\python\\framework\\dtypes.py:530: FutureWarning: Passing (type, 1) or '1type' as a synonym of type is deprecated; in a future version of numpy, it will be understood as (type, (1,)) / '(1,)type'.\n",
      "  _np_qint32 = np.dtype([(\"qint32\", np.int32, 1)])\n",
      "C:\\Users\\annab\\Anaconda3\\envs\\ads08\\lib\\site-packages\\tensorflow\\python\\framework\\dtypes.py:535: FutureWarning: Passing (type, 1) or '1type' as a synonym of type is deprecated; in a future version of numpy, it will be understood as (type, (1,)) / '(1,)type'.\n",
      "  np_resource = np.dtype([(\"resource\", np.ubyte, 1)])\n"
     ]
    }
   ],
   "source": [
    "from keras.preprocessing.text import text_to_word_sequence\n",
    "from keras.preprocessing.text import Tokenizer  \n",
    "from keras.preprocessing.sequence import pad_sequences\n",
    "from keras.models import Sequential\n",
    "from keras.layers import LSTM, Bidirectional, GRU, Dropout,Embedding ,Dense\n",
    "import pandas as pd\n",
    "import numpy as np\n",
    "import matplotlib.pyplot as plt\n",
    "from sklearn.model_selection import train_test_split\n",
    "from sklearn.metrics import accuracy_score, confusion_matrix\n",
    "\n",
    "import matplotlib.pyplot as plt  \n",
    "from sklearn import datasets, metrics, model_selection, svm"
   ]
  },
  {
   "cell_type": "markdown",
   "metadata": {},
   "source": [
    "# 2. Load data "
   ]
  },
  {
   "cell_type": "code",
   "execution_count": 25,
   "metadata": {},
   "outputs": [
    {
     "data": {
      "text/plain": [
       "(1804874, 45)"
      ]
     },
     "execution_count": 25,
     "metadata": {},
     "output_type": "execute_result"
    }
   ],
   "source": [
    "df=pd.read_csv('train.csv')\n",
    "df.shape"
   ]
  },
  {
   "cell_type": "code",
   "execution_count": 26,
   "metadata": {
    "scrolled": true
   },
   "outputs": [
    {
     "name": "stdout",
     "output_type": "stream",
     "text": [
      "(90244, 45)\n"
     ]
    },
    {
     "data": {
      "text/html": [
       "<div>\n",
       "<style scoped>\n",
       "    .dataframe tbody tr th:only-of-type {\n",
       "        vertical-align: middle;\n",
       "    }\n",
       "\n",
       "    .dataframe tbody tr th {\n",
       "        vertical-align: top;\n",
       "    }\n",
       "\n",
       "    .dataframe thead th {\n",
       "        text-align: right;\n",
       "    }\n",
       "</style>\n",
       "<table border=\"1\" class=\"dataframe\">\n",
       "  <thead>\n",
       "    <tr style=\"text-align: right;\">\n",
       "      <th></th>\n",
       "      <th>id</th>\n",
       "      <th>target</th>\n",
       "      <th>comment_text</th>\n",
       "      <th>severe_toxicity</th>\n",
       "      <th>obscene</th>\n",
       "      <th>identity_attack</th>\n",
       "      <th>insult</th>\n",
       "      <th>threat</th>\n",
       "      <th>asian</th>\n",
       "      <th>atheist</th>\n",
       "      <th>...</th>\n",
       "      <th>article_id</th>\n",
       "      <th>rating</th>\n",
       "      <th>funny</th>\n",
       "      <th>wow</th>\n",
       "      <th>sad</th>\n",
       "      <th>likes</th>\n",
       "      <th>disagree</th>\n",
       "      <th>sexual_explicit</th>\n",
       "      <th>identity_annotator_count</th>\n",
       "      <th>toxicity_annotator_count</th>\n",
       "    </tr>\n",
       "  </thead>\n",
       "  <tbody>\n",
       "    <tr>\n",
       "      <th>1710681</th>\n",
       "      <td>6219441</td>\n",
       "      <td>0.5</td>\n",
       "      <td>Darn.  Conspiracies make everything so easy!</td>\n",
       "      <td>0.0</td>\n",
       "      <td>0.5</td>\n",
       "      <td>0.0</td>\n",
       "      <td>0.4</td>\n",
       "      <td>0.0</td>\n",
       "      <td>NaN</td>\n",
       "      <td>NaN</td>\n",
       "      <td>...</td>\n",
       "      <td>393015</td>\n",
       "      <td>approved</td>\n",
       "      <td>2</td>\n",
       "      <td>0</td>\n",
       "      <td>0</td>\n",
       "      <td>0</td>\n",
       "      <td>0</td>\n",
       "      <td>0.0</td>\n",
       "      <td>0</td>\n",
       "      <td>10</td>\n",
       "    </tr>\n",
       "    <tr>\n",
       "      <th>1708699</th>\n",
       "      <td>6217030</td>\n",
       "      <td>0.6</td>\n",
       "      <td>But it wasn't a paramedic.   It wasn't even a ...</td>\n",
       "      <td>0.0</td>\n",
       "      <td>0.0</td>\n",
       "      <td>0.4</td>\n",
       "      <td>0.1</td>\n",
       "      <td>0.0</td>\n",
       "      <td>NaN</td>\n",
       "      <td>NaN</td>\n",
       "      <td>...</td>\n",
       "      <td>392779</td>\n",
       "      <td>approved</td>\n",
       "      <td>3</td>\n",
       "      <td>0</td>\n",
       "      <td>0</td>\n",
       "      <td>3</td>\n",
       "      <td>2</td>\n",
       "      <td>0.1</td>\n",
       "      <td>0</td>\n",
       "      <td>10</td>\n",
       "    </tr>\n",
       "    <tr>\n",
       "      <th>56086</th>\n",
       "      <td>310763</td>\n",
       "      <td>0.0</td>\n",
       "      <td>whether she got the goldmine or the shaft - sh...</td>\n",
       "      <td>0.0</td>\n",
       "      <td>0.0</td>\n",
       "      <td>0.0</td>\n",
       "      <td>0.0</td>\n",
       "      <td>0.0</td>\n",
       "      <td>NaN</td>\n",
       "      <td>NaN</td>\n",
       "      <td>...</td>\n",
       "      <td>75512</td>\n",
       "      <td>approved</td>\n",
       "      <td>0</td>\n",
       "      <td>0</td>\n",
       "      <td>0</td>\n",
       "      <td>3</td>\n",
       "      <td>0</td>\n",
       "      <td>0.0</td>\n",
       "      <td>0</td>\n",
       "      <td>4</td>\n",
       "    </tr>\n",
       "    <tr>\n",
       "      <th>1759063</th>\n",
       "      <td>6277729</td>\n",
       "      <td>0.0</td>\n",
       "      <td>Any tweet from the dotard yet?  Seems his coun...</td>\n",
       "      <td>0.0</td>\n",
       "      <td>0.0</td>\n",
       "      <td>0.0</td>\n",
       "      <td>0.0</td>\n",
       "      <td>0.0</td>\n",
       "      <td>NaN</td>\n",
       "      <td>NaN</td>\n",
       "      <td>...</td>\n",
       "      <td>396046</td>\n",
       "      <td>rejected</td>\n",
       "      <td>0</td>\n",
       "      <td>0</td>\n",
       "      <td>0</td>\n",
       "      <td>0</td>\n",
       "      <td>0</td>\n",
       "      <td>0.0</td>\n",
       "      <td>0</td>\n",
       "      <td>5</td>\n",
       "    </tr>\n",
       "    <tr>\n",
       "      <th>1289248</th>\n",
       "      <td>5690153</td>\n",
       "      <td>0.2</td>\n",
       "      <td>There is always \"chaos\" inside the beltway whe...</td>\n",
       "      <td>0.0</td>\n",
       "      <td>0.0</td>\n",
       "      <td>0.0</td>\n",
       "      <td>0.2</td>\n",
       "      <td>0.0</td>\n",
       "      <td>NaN</td>\n",
       "      <td>NaN</td>\n",
       "      <td>...</td>\n",
       "      <td>361265</td>\n",
       "      <td>approved</td>\n",
       "      <td>4</td>\n",
       "      <td>0</td>\n",
       "      <td>1</td>\n",
       "      <td>3</td>\n",
       "      <td>3</td>\n",
       "      <td>0.0</td>\n",
       "      <td>0</td>\n",
       "      <td>10</td>\n",
       "    </tr>\n",
       "  </tbody>\n",
       "</table>\n",
       "<p>5 rows × 45 columns</p>\n",
       "</div>"
      ],
      "text/plain": [
       "              id  target                                       comment_text  \\\n",
       "1710681  6219441     0.5       Darn.  Conspiracies make everything so easy!   \n",
       "1708699  6217030     0.6  But it wasn't a paramedic.   It wasn't even a ...   \n",
       "56086     310763     0.0  whether she got the goldmine or the shaft - sh...   \n",
       "1759063  6277729     0.0  Any tweet from the dotard yet?  Seems his coun...   \n",
       "1289248  5690153     0.2  There is always \"chaos\" inside the beltway whe...   \n",
       "\n",
       "         severe_toxicity  obscene  identity_attack  insult  threat  asian  \\\n",
       "1710681              0.0      0.5              0.0     0.4     0.0    NaN   \n",
       "1708699              0.0      0.0              0.4     0.1     0.0    NaN   \n",
       "56086                0.0      0.0              0.0     0.0     0.0    NaN   \n",
       "1759063              0.0      0.0              0.0     0.0     0.0    NaN   \n",
       "1289248              0.0      0.0              0.0     0.2     0.0    NaN   \n",
       "\n",
       "         atheist  ...  article_id    rating  funny  wow  sad  likes  disagree  \\\n",
       "1710681      NaN  ...      393015  approved      2    0    0      0         0   \n",
       "1708699      NaN  ...      392779  approved      3    0    0      3         2   \n",
       "56086        NaN  ...       75512  approved      0    0    0      3         0   \n",
       "1759063      NaN  ...      396046  rejected      0    0    0      0         0   \n",
       "1289248      NaN  ...      361265  approved      4    0    1      3         3   \n",
       "\n",
       "         sexual_explicit  identity_annotator_count  toxicity_annotator_count  \n",
       "1710681              0.0                         0                        10  \n",
       "1708699              0.1                         0                        10  \n",
       "56086                0.0                         0                         4  \n",
       "1759063              0.0                         0                         5  \n",
       "1289248              0.0                         0                        10  \n",
       "\n",
       "[5 rows x 45 columns]"
      ]
     },
     "execution_count": 26,
     "metadata": {},
     "output_type": "execute_result"
    }
   ],
   "source": [
    "# I only look into 5% of the data. \n",
    "def frac(dataframe, fraction, other_info=None):\n",
    "\n",
    "    return dataframe.sample(frac=fraction)\n",
    "\n",
    "\n",
    "df_small = frac(df, 0.05)\n",
    "print(df_small.shape)\n",
    "df_small.head()"
   ]
  },
  {
   "cell_type": "markdown",
   "metadata": {},
   "source": [
    "# 3. Select relevant features"
   ]
  },
  {
   "cell_type": "code",
   "execution_count": 27,
   "metadata": {
    "scrolled": true
   },
   "outputs": [
    {
     "data": {
      "text/html": [
       "<div>\n",
       "<style scoped>\n",
       "    .dataframe tbody tr th:only-of-type {\n",
       "        vertical-align: middle;\n",
       "    }\n",
       "\n",
       "    .dataframe tbody tr th {\n",
       "        vertical-align: top;\n",
       "    }\n",
       "\n",
       "    .dataframe thead th {\n",
       "        text-align: right;\n",
       "    }\n",
       "</style>\n",
       "<table border=\"1\" class=\"dataframe\">\n",
       "  <thead>\n",
       "    <tr style=\"text-align: right;\">\n",
       "      <th></th>\n",
       "      <th>target</th>\n",
       "      <th>comment_text</th>\n",
       "    </tr>\n",
       "  </thead>\n",
       "  <tbody>\n",
       "    <tr>\n",
       "      <th>1710681</th>\n",
       "      <td>0.5</td>\n",
       "      <td>Darn.  Conspiracies make everything so easy!</td>\n",
       "    </tr>\n",
       "    <tr>\n",
       "      <th>1708699</th>\n",
       "      <td>0.6</td>\n",
       "      <td>But it wasn't a paramedic.   It wasn't even a ...</td>\n",
       "    </tr>\n",
       "    <tr>\n",
       "      <th>56086</th>\n",
       "      <td>0.0</td>\n",
       "      <td>whether she got the goldmine or the shaft - sh...</td>\n",
       "    </tr>\n",
       "    <tr>\n",
       "      <th>1759063</th>\n",
       "      <td>0.0</td>\n",
       "      <td>Any tweet from the dotard yet?  Seems his coun...</td>\n",
       "    </tr>\n",
       "    <tr>\n",
       "      <th>1289248</th>\n",
       "      <td>0.2</td>\n",
       "      <td>There is always \"chaos\" inside the beltway whe...</td>\n",
       "    </tr>\n",
       "    <tr>\n",
       "      <th>986635</th>\n",
       "      <td>0.0</td>\n",
       "      <td>I have property in Talkeetna and I say drill it.</td>\n",
       "    </tr>\n",
       "    <tr>\n",
       "      <th>388121</th>\n",
       "      <td>0.0</td>\n",
       "      <td>Pot is NOT the same as it was \"back in the day...</td>\n",
       "    </tr>\n",
       "    <tr>\n",
       "      <th>1340641</th>\n",
       "      <td>0.2</td>\n",
       "      <td>Interesting article.  Perhaps there would be m...</td>\n",
       "    </tr>\n",
       "    <tr>\n",
       "      <th>270525</th>\n",
       "      <td>0.0</td>\n",
       "      <td>\"The change also poses a practical problem for...</td>\n",
       "    </tr>\n",
       "    <tr>\n",
       "      <th>458720</th>\n",
       "      <td>0.0</td>\n",
       "      <td>JImbo5  So if its negligible how  does a tax o...</td>\n",
       "    </tr>\n",
       "  </tbody>\n",
       "</table>\n",
       "</div>"
      ],
      "text/plain": [
       "         target                                       comment_text\n",
       "1710681     0.5       Darn.  Conspiracies make everything so easy!\n",
       "1708699     0.6  But it wasn't a paramedic.   It wasn't even a ...\n",
       "56086       0.0  whether she got the goldmine or the shaft - sh...\n",
       "1759063     0.0  Any tweet from the dotard yet?  Seems his coun...\n",
       "1289248     0.2  There is always \"chaos\" inside the beltway whe...\n",
       "986635      0.0   I have property in Talkeetna and I say drill it.\n",
       "388121      0.0  Pot is NOT the same as it was \"back in the day...\n",
       "1340641     0.2  Interesting article.  Perhaps there would be m...\n",
       "270525      0.0  \"The change also poses a practical problem for...\n",
       "458720      0.0  JImbo5  So if its negligible how  does a tax o..."
      ]
     },
     "execution_count": 27,
     "metadata": {},
     "output_type": "execute_result"
    }
   ],
   "source": [
    "\n",
    "df_small = df_small[['target','comment_text']]\n",
    "df_small.head(10)"
   ]
  },
  {
   "cell_type": "markdown",
   "metadata": {},
   "source": [
    "# 4. Tfidf method"
   ]
  },
  {
   "cell_type": "code",
   "execution_count": 28,
   "metadata": {},
   "outputs": [
    {
     "name": "stdout",
     "output_type": "stream",
     "text": [
      "Top 5 rows using tfidf: \n",
      "    actually  agree  alaska  article  away       bad  believe  best  better  \\\n",
      "0       0.0    0.0     0.0      0.0   0.0  0.000000      0.0   0.0     0.0   \n",
      "1       0.0    0.0     0.0      0.0   0.0  0.000000      0.0   0.0     0.0   \n",
      "2       0.0    0.0     0.0      0.0   0.0  0.267939      0.0   0.0     0.0   \n",
      "3       0.0    0.0     0.0      0.0   0.0  0.000000      0.0   0.0     0.0   \n",
      "4       0.0    0.0     0.0      0.0   0.0  0.000000      0.0   0.0     0.0   \n",
      "\n",
      "   big  ...  way  white  women  won  work  world  wrong  year  years  yes  \n",
      "0  0.0  ...  0.0    0.0    0.0  0.0   0.0    0.0    0.0   0.0    0.0  0.0  \n",
      "1  0.0  ...  0.0    0.0    0.0  0.0   0.0    0.0    0.0   0.0    0.0  0.0  \n",
      "2  0.0  ...  0.0    0.0    0.0  0.0   0.0    0.0    0.0   0.0    0.0  0.0  \n",
      "3  0.0  ...  0.0    0.0    0.0  0.0   0.0    0.0    0.0   0.0    0.0  0.0  \n",
      "4  0.0  ...  0.0    0.0    0.0  0.0   0.0    0.0    0.0   0.0    0.0  0.0  \n",
      "\n",
      "[5 rows x 100 columns]\n"
     ]
    }
   ],
   "source": [
    "from sklearn.feature_extraction.text import TfidfVectorizer, ENGLISH_STOP_WORDS\n",
    "\n",
    "# Build tfidf vectorizers from the review column and with max of 100 features\n",
    "\n",
    "vect = TfidfVectorizer(stop_words=ENGLISH_STOP_WORDS, max_features=100, token_pattern=r'\\b[^\\d\\W][^\\d\\W]+\\b').fit(df_small.comment_text) \n",
    "\n",
    "# Transform the vectorizers\n",
    "\n",
    "X = vect.transform(df_small.comment_text)\n",
    "\n",
    "# Create DataFrames from the vectorizers \n",
    "X_df = pd.DataFrame(X.toarray(), columns=vect.get_feature_names())\n",
    "\n",
    "print('Top 5 rows using tfidf: \\n', X_df.head())"
   ]
  },
  {
   "cell_type": "code",
   "execution_count": 29,
   "metadata": {},
   "outputs": [
    {
     "data": {
      "text/plain": [
       "(90244, 100)"
      ]
     },
     "execution_count": 29,
     "metadata": {},
     "output_type": "execute_result"
    }
   ],
   "source": [
    "X_df.shape"
   ]
  },
  {
   "cell_type": "markdown",
   "metadata": {},
   "source": [
    "# 5. Feature Engineering "
   ]
  },
  {
   "cell_type": "code",
   "execution_count": 49,
   "metadata": {},
   "outputs": [],
   "source": [
    "from sklearn.linear_model import LogisticRegression\n",
    "\n",
    "\n",
    "# Define the vector of targets and matrix of features\n",
    "y = [1 if x >0.5 else 0 for x in df_small.target]\n",
    "X = X_df"
   ]
  },
  {
   "cell_type": "code",
   "execution_count": 31,
   "metadata": {},
   "outputs": [
    {
     "data": {
      "text/plain": [
       "0.05825318026683214"
      ]
     },
     "execution_count": 31,
     "metadata": {},
     "output_type": "execute_result"
    }
   ],
   "source": [
    "sum(y)/len(y)"
   ]
  },
  {
   "cell_type": "markdown",
   "metadata": {},
   "source": [
    "# Conclusion: \n",
    "- The dataset is highly inbalanced. "
   ]
  },
  {
   "cell_type": "markdown",
   "metadata": {},
   "source": [
    "# 6. Train and test split"
   ]
  },
  {
   "cell_type": "code",
   "execution_count": 32,
   "metadata": {},
   "outputs": [],
   "source": [
    "# Perform the train-test split\n",
    "X_train, X_test, y_train, y_test = train_test_split(X_df, y, test_size=0.2, random_state=42)"
   ]
  },
  {
   "cell_type": "markdown",
   "metadata": {},
   "source": [
    "# 7. LogisticRegression "
   ]
  },
  {
   "cell_type": "code",
   "execution_count": 33,
   "metadata": {},
   "outputs": [
    {
     "name": "stdout",
     "output_type": "stream",
     "text": [
      "Accuracy on train set:  0.941782671930189\n",
      "Accuracy on test set:  0.9416034129314643\n"
     ]
    }
   ],
   "source": [
    "\n",
    "\n",
    "# Build a logistic regression model and print out the accuracy\n",
    "log_reg = LogisticRegression().fit(X_train,y_train)\n",
    "y_pred_log = log_reg.predict(X_test)\n",
    "\n",
    "print('Accuracy on train set: ', log_reg.score(X_train, y_train))\n",
    "print('Accuracy on test set: ', log_reg.score(X_test, y_test))"
   ]
  },
  {
   "cell_type": "code",
   "execution_count": 37,
   "metadata": {
    "scrolled": false
   },
   "outputs": [
    {
     "name": "stdout",
     "output_type": "stream",
     "text": [
      "Accuracy score test set:  0.9416034129314643\n",
      "----------------------------------------\n",
      "Confusion matrix test set: \n",
      " [[0.94160341 0.        ]\n",
      " [0.05839659 0.        ]]\n",
      "----------------------------------------\n",
      "Accuracy = 0.94160\n",
      "Precision = 0.00000\n",
      "Recall = 0.00000\n",
      "F1 score = 0.00000\n",
      "\n",
      "Classification Report\n",
      "              precision    recall  f1-score   support\n",
      "\n",
      "           0       0.94      1.00      0.97     16995\n",
      "           1       0.00      0.00      0.00      1054\n",
      "\n",
      "    accuracy                           0.94     18049\n",
      "   macro avg       0.47      0.50      0.48     18049\n",
      "weighted avg       0.89      0.94      0.91     18049\n",
      "\n"
     ]
    },
    {
     "name": "stderr",
     "output_type": "stream",
     "text": [
      "C:\\Users\\annab\\Anaconda3\\envs\\ads08\\lib\\site-packages\\sklearn\\metrics\\_classification.py:1221: UndefinedMetricWarning: Precision is ill-defined and being set to 0.0 due to no predicted samples. Use `zero_division` parameter to control this behavior.\n",
      "  _warn_prf(average, modifier, msg_start, len(result))\n",
      "C:\\Users\\annab\\Anaconda3\\envs\\ads08\\lib\\site-packages\\sklearn\\metrics\\_classification.py:1221: UndefinedMetricWarning: Precision and F-score are ill-defined and being set to 0.0 in labels with no predicted samples. Use `zero_division` parameter to control this behavior.\n",
      "  _warn_prf(average, modifier, msg_start, len(result))\n"
     ]
    }
   ],
   "source": [
    "evaluate(y_test,y_pred_log)"
   ]
  },
  {
   "cell_type": "code",
   "execution_count": 38,
   "metadata": {},
   "outputs": [
    {
     "data": {
      "text/plain": [
       "array([[16995,     0],\n",
       "       [ 1054,     0]], dtype=int64)"
      ]
     },
     "execution_count": 38,
     "metadata": {},
     "output_type": "execute_result"
    }
   ],
   "source": [
    "confusion_matrix(y_test,y_pred_log)"
   ]
  },
  {
   "cell_type": "markdown",
   "metadata": {},
   "source": [
    "## Observation \n",
    "- Not very good result, the recall says this model will always predict the article which is not toxic correctly.\n",
    "- But it will never catch the article which is toxic. \n",
    "- We need to find another method. "
   ]
  },
  {
   "cell_type": "markdown",
   "metadata": {},
   "source": [
    "# 7. Random Forest Classifier"
   ]
  },
  {
   "cell_type": "code",
   "execution_count": 39,
   "metadata": {},
   "outputs": [],
   "source": [
    "from sklearn.ensemble import RandomForestClassifier\n",
    "\n",
    "\n",
    "# Build a RFC model and print out the accuracy\n",
    "rfc = RandomForestClassifier().fit(X_train,y_train)\n",
    "y_pred_rfc = rfc.predict(X_test)\n"
   ]
  },
  {
   "cell_type": "code",
   "execution_count": 40,
   "metadata": {},
   "outputs": [
    {
     "name": "stdout",
     "output_type": "stream",
     "text": [
      "Accuracy score test set:  0.9388885810848246\n",
      "----------------------------------------\n",
      "Confusion matrix test set: \n",
      " [[9.38666962e-01 2.93645077e-03]\n",
      " [5.81749681e-02 2.21618926e-04]]\n",
      "----------------------------------------\n",
      "Accuracy = 0.93889\n",
      "Precision = 0.07018\n",
      "Recall = 0.00380\n",
      "F1 score = 0.00720\n",
      "\n",
      "Classification Report\n",
      "              precision    recall  f1-score   support\n",
      "\n",
      "           0       0.94      1.00      0.97     16995\n",
      "           1       0.07      0.00      0.01      1054\n",
      "\n",
      "    accuracy                           0.94     18049\n",
      "   macro avg       0.51      0.50      0.49     18049\n",
      "weighted avg       0.89      0.94      0.91     18049\n",
      "\n"
     ]
    }
   ],
   "source": [
    "# Print the performance metrics\n",
    "evaluate(y_test,y_pred_rfc)"
   ]
  },
  {
   "cell_type": "code",
   "execution_count": 41,
   "metadata": {},
   "outputs": [
    {
     "data": {
      "text/plain": [
       "array([[16942,    53],\n",
       "       [ 1050,     4]], dtype=int64)"
      ]
     },
     "execution_count": 41,
     "metadata": {},
     "output_type": "execute_result"
    }
   ],
   "source": [
    "confusion_matrix(y_test,y_pred_rfc)"
   ]
  },
  {
   "cell_type": "markdown",
   "metadata": {},
   "source": [
    "# Conclusion \n",
    "- The model RFC is better than Logistic but still yield very poor result.\n",
    "- Now balance the dataset. "
   ]
  },
  {
   "cell_type": "markdown",
   "metadata": {},
   "source": [
    "# 8. Balance the dataset "
   ]
  },
  {
   "cell_type": "markdown",
   "metadata": {},
   "source": [
    "## SMOTE"
   ]
  },
  {
   "cell_type": "code",
   "execution_count": 44,
   "metadata": {
    "scrolled": true
   },
   "outputs": [
    {
     "name": "stdout",
     "output_type": "stream",
     "text": [
      "% Positive class in Train = 5.82\n",
      "% Positive class in Test  = 5.84\n"
     ]
    }
   ],
   "source": [
    "print(f'''% Positive class in Train = {np.round(pd.Series(y_train).value_counts(normalize=True)[1] * 100, 2)}\n",
    "% Positive class in Test  = {np.round(pd.Series(y_test).value_counts(normalize=True)[1] * 100, 2)}''')"
   ]
  },
  {
   "cell_type": "code",
   "execution_count": 45,
   "metadata": {},
   "outputs": [
    {
     "name": "stdout",
     "output_type": "stream",
     "text": [
      "Requirement already satisfied: imbalanced-learn in c:\\users\\annab\\anaconda3\\envs\\ads08\\lib\\site-packages (0.7.0)\n",
      "Requirement already satisfied: numpy>=1.13.3 in c:\\users\\annab\\anaconda3\\envs\\ads08\\lib\\site-packages (from imbalanced-learn) (1.19.3)\n",
      "Requirement already satisfied: scikit-learn>=0.23 in c:\\users\\annab\\anaconda3\\envs\\ads08\\lib\\site-packages (from imbalanced-learn) (0.23.1)\n",
      "Requirement already satisfied: joblib>=0.11 in c:\\users\\annab\\anaconda3\\envs\\ads08\\lib\\site-packages (from imbalanced-learn) (0.14.0)\n",
      "Requirement already satisfied: scipy>=0.19.1 in c:\\users\\annab\\anaconda3\\envs\\ads08\\lib\\site-packages (from imbalanced-learn) (1.5.3)\n",
      "Requirement already satisfied: threadpoolctl>=2.0.0 in c:\\users\\annab\\anaconda3\\envs\\ads08\\lib\\site-packages (from scikit-learn>=0.23->imbalanced-learn) (2.1.0)\n",
      "Note: you may need to restart the kernel to use updated packages.\n"
     ]
    }
   ],
   "source": [
    "pip install imbalanced-learn"
   ]
  },
  {
   "cell_type": "code",
   "execution_count": 50,
   "metadata": {},
   "outputs": [
    {
     "name": "stdout",
     "output_type": "stream",
     "text": [
      "Shape of X before SMOTE: (90244, 100)\n",
      "Shape of X after SMOTE: (169974, 100)\n",
      "\n",
      "Balance of positive and negative classes (%):\n"
     ]
    },
    {
     "data": {
      "text/plain": [
       "1    50.0\n",
       "0    50.0\n",
       "dtype: float64"
      ]
     },
     "execution_count": 50,
     "metadata": {},
     "output_type": "execute_result"
    }
   ],
   "source": [
    "from imblearn.over_sampling import SMOTE \n",
    "\n",
    "sm = SMOTE(random_state=42)\n",
    "\n",
    "X_sm, y_sm = sm.fit_resample(X_df, y)\n",
    "\n",
    "\n",
    "print(f'''Shape of X before SMOTE: {X_df.shape}\n",
    "Shape of X after SMOTE: {X_sm.shape}''')\n",
    "\n",
    "print('\\nBalance of positive and negative classes (%):')\n",
    "pd.Series(y_sm).value_counts(normalize=True) * 100"
   ]
  },
  {
   "cell_type": "code",
   "execution_count": 51,
   "metadata": {},
   "outputs": [],
   "source": [
    "X_train, X_test, y_train, y_test = train_test_split(X_sm, y_sm, test_size=0.2, random_state=42)"
   ]
  },
  {
   "cell_type": "markdown",
   "metadata": {},
   "source": [
    "# 9.Classifers after SMOTE"
   ]
  },
  {
   "cell_type": "code",
   "execution_count": 52,
   "metadata": {
    "scrolled": true
   },
   "outputs": [
    {
     "name": "stdout",
     "output_type": "stream",
     "text": [
      "Accuracy score test set:  0.8246506839241065\n",
      "----------------------------------------\n",
      "Confusion matrix test set: \n",
      " [[0.36346522 0.13587292]\n",
      " [0.03947639 0.46118547]]\n",
      "----------------------------------------\n",
      "Accuracy = 0.82465\n",
      "Precision = 0.77243\n",
      "Recall = 0.92115\n",
      "F1 score = 0.84026\n",
      "\n",
      "Classification Report\n",
      "              precision    recall  f1-score   support\n",
      "\n",
      "           0       0.90      0.73      0.81     16975\n",
      "           1       0.77      0.92      0.84     17020\n",
      "\n",
      "    accuracy                           0.82     33995\n",
      "   macro avg       0.84      0.82      0.82     33995\n",
      "weighted avg       0.84      0.82      0.82     33995\n",
      "\n",
      "Accuracy = 0.82\n",
      "Recall = 0.92\n",
      "\n"
     ]
    },
    {
     "data": {
      "image/png": "[encoded data removed]",
      "text/plain": [
       "<Figure size 576x432 with 2 Axes>"
      ]
     },
     "metadata": {
      "needs_background": "light"
     },
     "output_type": "display_data"
    }
   ],
   "source": [
    "# Random Forest Classifer\n",
    "\n",
    "model = RandomForestClassifier(random_state=42)\n",
    "model.fit(X_train, y_train)\n",
    "preds = model.predict(X_test)\n",
    "evaluate(y_test,preds)\n",
    "evaluate_vision(y_test,preds)\n"
   ]
  },
  {
   "cell_type": "markdown",
   "metadata": {},
   "source": [
    "## LogisticRegression with SMOTE\n",
    "\n"
   ]
  },
  {
   "cell_type": "code",
   "execution_count": 31,
   "metadata": {},
   "outputs": [
    {
     "name": "stderr",
     "output_type": "stream",
     "text": [
      "C:\\Users\\Annabel\\anaconda3\\envs\\ads08\\lib\\site-packages\\sklearn\\utils\\validation.py:72: DataConversionWarning: A column-vector y was passed when a 1d array was expected. Please change the shape of y to (n_samples, ), for example using ravel().\n",
      "  return f(**kwargs)\n"
     ]
    },
    {
     "name": "stdout",
     "output_type": "stream",
     "text": [
      "Accuracy = 0.61\n",
      "Recall = 0.64\n",
      "\n"
     ]
    },
    {
     "data": {
      "image/png": "[encoded data removed]",
      "text/plain": [
       "<Figure size 576x432 with 2 Axes>"
      ]
     },
     "metadata": {
      "needs_background": "light"
     },
     "output_type": "display_data"
    }
   ],
   "source": [
    "model = LogisticRegression(random_state=42)\n",
    "model.fit(X_train, y_train)\n",
    "preds = model.predict(X_test)\n",
    "\n",
    "print(f'Accuracy = {accuracy_score(y_test, preds):.2f}\\nRecall = {recall_score(y_test, preds):.2f}\\n')\n",
    "cm = confusion_matrix(y_test, preds)\n",
    "plt.figure(figsize=(8, 6))\n",
    "plt.title('Confusion Matrix (with SMOTE)', size=16)\n",
    "sns.heatmap(cm, annot=True, cmap='Blues');"
   ]
  },
  {
   "cell_type": "code",
   "execution_count": 32,
   "metadata": {
    "scrolled": true
   },
   "outputs": [
    {
     "name": "stdout",
     "output_type": "stream",
     "text": [
      "Accuracy = 0.61337\n",
      "Precision = 0.61146\n",
      "Recall = 0.63713\n",
      "F1 score = 0.62403\n",
      "\n",
      "Classification Report\n",
      "              precision    recall  f1-score   support\n",
      "\n",
      "           0       0.62      0.59      0.60     21057\n",
      "           1       0.61      0.64      0.62     21363\n",
      "\n",
      "    accuracy                           0.61     42420\n",
      "   macro avg       0.61      0.61      0.61     42420\n",
      "weighted avg       0.61      0.61      0.61     42420\n",
      "\n"
     ]
    }
   ],
   "source": [
    "#print('\\nUsing 0.5 as threshold:')\n",
    "print('Accuracy = {:.5f}'.format(accuracy_score(y_test, preds)))\n",
    "print('Precision = {:.5f}'.format(metrics.precision_score(y_test,preds)))\n",
    "print('Recall = {:.5f}'.format(metrics.recall_score(y_test, preds)))\n",
    "print('F1 score = {:.5f}'.format(metrics.f1_score(y_test, preds)))\n",
    "\n",
    "print('\\nClassification Report')\n",
    "print(metrics.classification_report(y_test, preds))"
   ]
  },
  {
   "cell_type": "markdown",
   "metadata": {},
   "source": [
    "## Conclusion: \n",
    "- After resampled the dataset, the RF result was much better compared with previous\n"
   ]
  },
  {
   "cell_type": "markdown",
   "metadata": {},
   "source": [
    "# LogisticRegression With Regularization + SMOTE"
   ]
  },
  {
   "cell_type": "code",
   "execution_count": 33,
   "metadata": {},
   "outputs": [
    {
     "name": "stderr",
     "output_type": "stream",
     "text": [
      "C:\\Users\\Annabel\\anaconda3\\envs\\ads08\\lib\\site-packages\\sklearn\\utils\\validation.py:72: DataConversionWarning: A column-vector y was passed when a 1d array was expected. Please change the shape of y to (n_samples, ), for example using ravel().\n",
      "  return f(**kwargs)\n"
     ]
    },
    {
     "name": "stdout",
     "output_type": "stream",
     "text": [
      "C: 10\n",
      "Training accuracy: 0.6168709728115669\n",
      "Test accuracy: 0.6134370579915135\n",
      "\n"
     ]
    },
    {
     "name": "stderr",
     "output_type": "stream",
     "text": [
      "C:\\Users\\Annabel\\anaconda3\\envs\\ads08\\lib\\site-packages\\sklearn\\utils\\validation.py:72: DataConversionWarning: A column-vector y was passed when a 1d array was expected. Please change the shape of y to (n_samples, ), for example using ravel().\n",
      "  return f(**kwargs)\n"
     ]
    },
    {
     "name": "stdout",
     "output_type": "stream",
     "text": [
      "C: 1\n",
      "Training accuracy: 0.6168945465975169\n",
      "Test accuracy: 0.6133663366336634\n",
      "\n"
     ]
    },
    {
     "name": "stderr",
     "output_type": "stream",
     "text": [
      "C:\\Users\\Annabel\\anaconda3\\envs\\ads08\\lib\\site-packages\\sklearn\\utils\\validation.py:72: DataConversionWarning: A column-vector y was passed when a 1d array was expected. Please change the shape of y to (n_samples, ), for example using ravel().\n",
      "  return f(**kwargs)\n"
     ]
    },
    {
     "name": "stdout",
     "output_type": "stream",
     "text": [
      "C: 0.1\n",
      "Training accuracy: 0.6166116611661167\n",
      "Test accuracy: 0.6132484677039133\n",
      "\n",
      "C: 0.001\n",
      "Training accuracy: 0.6050762219079051\n",
      "Test accuracy: 0.6052333804809052\n",
      "\n"
     ]
    },
    {
     "name": "stderr",
     "output_type": "stream",
     "text": [
      "C:\\Users\\Annabel\\anaconda3\\envs\\ads08\\lib\\site-packages\\sklearn\\utils\\validation.py:72: DataConversionWarning: A column-vector y was passed when a 1d array was expected. Please change the shape of y to (n_samples, ), for example using ravel().\n",
      "  return f(**kwargs)\n"
     ]
    }
   ],
   "source": [
    "C = [10, 1, .1, .001]\n",
    "for c in C:\n",
    "    clf = LogisticRegression(penalty='l2', C=c, solver='liblinear')\n",
    "    clf.fit(X_train, y_train)\n",
    "    print('C:', c)\n",
    "    #print('Coefficient of each feature:', clf.coef_)\n",
    "    print('Training accuracy:', clf.score(X_train, y_train))\n",
    "    print('Test accuracy:', clf.score(X_test, y_test))\n",
    "    print('')"
   ]
  },
  {
   "cell_type": "code",
   "execution_count": 34,
   "metadata": {
    "scrolled": true
   },
   "outputs": [
    {
     "name": "stderr",
     "output_type": "stream",
     "text": [
      "C:\\Users\\Annabel\\anaconda3\\envs\\ads08\\lib\\site-packages\\sklearn\\utils\\validation.py:72: DataConversionWarning: A column-vector y was passed when a 1d array was expected. Please change the shape of y to (n_samples, ), for example using ravel().\n",
      "  return f(**kwargs)\n"
     ]
    },
    {
     "name": "stdout",
     "output_type": "stream",
     "text": [
      "Accuracy = 0.61\n",
      "Recall = 0.64\n",
      "\n"
     ]
    },
    {
     "data": {
      "image/png": "[encoded data removed]",
      "text/plain": [
       "<Figure size 576x432 with 2 Axes>"
      ]
     },
     "metadata": {
      "needs_background": "light"
     },
     "output_type": "display_data"
    }
   ],
   "source": [
    "# Choose the best model from above \n",
    "model = LogisticRegression(random_state=42, C=1, penalty='l2')\n",
    "model.fit(X_train, y_train)\n",
    "preds = model.predict(X_test)\n",
    "\n",
    "print(f'Accuracy = {accuracy_score(y_test, preds):.2f}\\nRecall = {recall_score(y_test, preds):.2f}\\n')\n",
    "cm = confusion_matrix(y_test, preds)\n",
    "plt.figure(figsize=(8, 6))\n",
    "plt.title('Confusion Matrix (with SMOTE)', size=16)\n",
    "sns.heatmap(cm, annot=True, cmap='Blues');"
   ]
  },
  {
   "cell_type": "markdown",
   "metadata": {},
   "source": [
    "# Conclusion\n",
    "- Regularization does not help much to improve the model. \n"
   ]
  },
  {
   "cell_type": "markdown",
   "metadata": {},
   "source": [
    "# 9. Neural Network"
   ]
  },
  {
   "cell_type": "code",
   "execution_count": 110,
   "metadata": {},
   "outputs": [
    {
     "data": {
      "text/html": [
       "<div>\n",
       "<style scoped>\n",
       "    .dataframe tbody tr th:only-of-type {\n",
       "        vertical-align: middle;\n",
       "    }\n",
       "\n",
       "    .dataframe tbody tr th {\n",
       "        vertical-align: top;\n",
       "    }\n",
       "\n",
       "    .dataframe thead th {\n",
       "        text-align: right;\n",
       "    }\n",
       "</style>\n",
       "<table border=\"1\" class=\"dataframe\">\n",
       "  <thead>\n",
       "    <tr style=\"text-align: right;\">\n",
       "      <th></th>\n",
       "      <th>0</th>\n",
       "    </tr>\n",
       "  </thead>\n",
       "  <tbody>\n",
       "    <tr>\n",
       "      <th>0</th>\n",
       "      <td>0</td>\n",
       "    </tr>\n",
       "    <tr>\n",
       "      <th>1</th>\n",
       "      <td>0</td>\n",
       "    </tr>\n",
       "    <tr>\n",
       "      <th>2</th>\n",
       "      <td>0</td>\n",
       "    </tr>\n",
       "    <tr>\n",
       "      <th>3</th>\n",
       "      <td>0</td>\n",
       "    </tr>\n",
       "    <tr>\n",
       "      <th>4</th>\n",
       "      <td>0</td>\n",
       "    </tr>\n",
       "    <tr>\n",
       "      <th>...</th>\n",
       "      <td>...</td>\n",
       "    </tr>\n",
       "    <tr>\n",
       "      <th>169745</th>\n",
       "      <td>1</td>\n",
       "    </tr>\n",
       "    <tr>\n",
       "      <th>169746</th>\n",
       "      <td>1</td>\n",
       "    </tr>\n",
       "    <tr>\n",
       "      <th>169747</th>\n",
       "      <td>1</td>\n",
       "    </tr>\n",
       "    <tr>\n",
       "      <th>169748</th>\n",
       "      <td>1</td>\n",
       "    </tr>\n",
       "    <tr>\n",
       "      <th>169749</th>\n",
       "      <td>1</td>\n",
       "    </tr>\n",
       "  </tbody>\n",
       "</table>\n",
       "<p>169750 rows × 1 columns</p>\n",
       "</div>"
      ],
      "text/plain": [
       "        0\n",
       "0       0\n",
       "1       0\n",
       "2       0\n",
       "3       0\n",
       "4       0\n",
       "...    ..\n",
       "169745  1\n",
       "169746  1\n",
       "169747  1\n",
       "169748  1\n",
       "169749  1\n",
       "\n",
       "[169750 rows x 1 columns]"
      ]
     },
     "execution_count": 110,
     "metadata": {},
     "output_type": "execute_result"
    }
   ],
   "source": [
    "y_sm"
   ]
  },
  {
   "cell_type": "code",
   "execution_count": 113,
   "metadata": {},
   "outputs": [
    {
     "name": "stdout",
     "output_type": "stream",
     "text": [
      "X_train: (135800, 100)\n",
      "y_train: (135800, 1)\n",
      "X_test: (33950, 100)\n",
      "y_test: (33950, 1)\n"
     ]
    }
   ],
   "source": [
    "X_train, X_test, y_train, y_test = train_test_split(\n",
    "    X_sm, y_sm, test_size=0.2, random_state=42\n",
    ")\n",
    "\n",
    "\n",
    "# Check the dimension of the sets\n",
    "print('X_train:',np.shape(X_train))\n",
    "print('y_train:',np.shape(y_train))\n",
    "print('X_test:',np.shape(X_test))\n",
    "print('y_test:',np.shape(y_test))"
   ]
  },
  {
   "cell_type": "code",
   "execution_count": 114,
   "metadata": {},
   "outputs": [],
   "source": [
    "## Change to use Neural Network \n",
    "import keras\n",
    "from keras.layers import Dense\n",
    "from keras.models import Sequential\n",
    "\n",
    "def get_new_model():\n",
    "    n_cols = 100\n",
    "    model = Sequential()\n",
    "    model.add(Dense(100, input_shape=(n_cols,),activation='relu'))\n",
    "    model.add(Dense(100, activation='relu'))\n",
    "    model.add(Dense(100, activation='relu'))\n",
    "    model.add(Dense(1,activation = 'hard_sigmoid'))\n",
    "    return model"
   ]
  },
  {
   "cell_type": "code",
   "execution_count": 115,
   "metadata": {},
   "outputs": [],
   "source": [
    "# compiling the model\n",
    "basic_model = get_new_model()\n",
    "sgd = keras.optimizers.SGD(lr=0.5, momentum=0.9, nesterov=True)\n",
    "basic_model.compile(loss = 'binary_crossentropy', optimizer = 'sgd', metrics = ['accuracy'])"
   ]
  },
  {
   "cell_type": "code",
   "execution_count": 116,
   "metadata": {},
   "outputs": [
    {
     "name": "stdout",
     "output_type": "stream",
     "text": [
      "Epoch 1/15\n",
      "2547/2547 [==============================] - 2s 789us/step - loss: 0.6932 - accuracy: 0.5041 - val_loss: 0.6909 - val_accuracy: 0.5552\n",
      "Epoch 2/15\n",
      "2547/2547 [==============================] - 2s 730us/step - loss: 0.6898 - accuracy: 0.5560 - val_loss: 0.6873 - val_accuracy: 0.5764\n",
      "Epoch 3/15\n",
      "2547/2547 [==============================] - 2s 726us/step - loss: 0.6848 - accuracy: 0.5848 - val_loss: 0.6780 - val_accuracy: 0.5906\n",
      "Epoch 4/15\n",
      "2547/2547 [==============================] - 2s 734us/step - loss: 0.6738 - accuracy: 0.5945 - val_loss: 0.6634 - val_accuracy: 0.6032\n",
      "Epoch 5/15\n",
      "2547/2547 [==============================] - 2s 735us/step - loss: 0.6579 - accuracy: 0.6041 - val_loss: 0.6525 - val_accuracy: 0.6143\n",
      "Epoch 6/15\n",
      "2547/2547 [==============================] - 2s 725us/step - loss: 0.6485 - accuracy: 0.6158 - val_loss: 0.6459 - val_accuracy: 0.6193\n",
      "Epoch 7/15\n",
      "2547/2547 [==============================] - 2s 738us/step - loss: 0.6430 - accuracy: 0.6210 - val_loss: 0.6410 - val_accuracy: 0.6231\n",
      "Epoch 8/15\n",
      "2547/2547 [==============================] - 2s 721us/step - loss: 0.6374 - accuracy: 0.6242 - val_loss: 0.6381 - val_accuracy: 0.6234\n",
      "Epoch 9/15\n",
      "2547/2547 [==============================] - 2s 720us/step - loss: 0.6363 - accuracy: 0.6246 - val_loss: 0.6364 - val_accuracy: 0.6205\n",
      "Epoch 10/15\n",
      "2547/2547 [==============================] - 2s 722us/step - loss: 0.6319 - accuracy: 0.6299 - val_loss: 0.6324 - val_accuracy: 0.6329\n",
      "Epoch 11/15\n",
      "2547/2547 [==============================] - 2s 734us/step - loss: 0.6282 - accuracy: 0.6331 - val_loss: 0.6279 - val_accuracy: 0.6349\n",
      "Epoch 12/15\n",
      "2547/2547 [==============================] - 2s 721us/step - loss: 1.7141 - accuracy: 0.6160 - val_loss: 7.6514 - val_accuracy: 0.4983\n",
      "Epoch 13/15\n",
      "2547/2547 [==============================] - 2s 729us/step - loss: 7.6348 - accuracy: 0.4993 - val_loss: 7.6514 - val_accuracy: 0.4983\n"
     ]
    },
    {
     "data": {
      "text/plain": [
       "<tensorflow.python.keras.callbacks.History at 0x161ebcffa90>"
      ]
     },
     "execution_count": 116,
     "metadata": {},
     "output_type": "execute_result"
    }
   ],
   "source": [
    "from tensorflow.keras.callbacks import EarlyStopping\n",
    "# training the model\n",
    "#basic_model.fit(X_train, y_train, epochs=100)\n",
    "early_stopping_monitor= EarlyStopping(patience=2)\n",
    "basic_model.fit(X_train,y_train,epochs=15,callbacks=[early_stopping_monitor],validation_split=0.4)"
   ]
  },
  {
   "cell_type": "code",
   "execution_count": 117,
   "metadata": {},
   "outputs": [
    {
     "name": "stdout",
     "output_type": "stream",
     "text": [
      "Loss =  7.567077159881592\n",
      "Accuracy =  0.5037702322006226\n"
     ]
    }
   ],
   "source": [
    "\n",
    "# Test, Loss and accuracy\n",
    "loss_and_metrics = basic_model.evaluate(X_test, y_test,verbose=0)\n",
    "print('Loss = ',loss_and_metrics[0])\n",
    "print('Accuracy = ',loss_and_metrics[1])"
   ]
  },
  {
   "cell_type": "markdown",
   "metadata": {},
   "source": [
    "# Tuning the NN network"
   ]
  },
  {
   "cell_type": "code",
   "execution_count": 118,
   "metadata": {},
   "outputs": [
    {
     "data": {
      "text/plain": [
       "pandas.core.frame.DataFrame"
      ]
     },
     "execution_count": 118,
     "metadata": {},
     "output_type": "execute_result"
    }
   ],
   "source": [
    "type(y_train)"
   ]
  },
  {
   "cell_type": "code",
   "execution_count": 119,
   "metadata": {},
   "outputs": [
    {
     "name": "stdout",
     "output_type": "stream",
     "text": [
      "2\n"
     ]
    }
   ],
   "source": [
    "from keras.utils import to_categorical\n",
    "# one hot encode outputs\n",
    "y_train = to_categorical(y_train)\n",
    "y_test = to_categorical(y_test)\n",
    "\n",
    "count_classes = y_test.shape[1]\n",
    "print(count_classes)"
   ]
  },
  {
   "cell_type": "code",
   "execution_count": 120,
   "metadata": {},
   "outputs": [],
   "source": [
    "model = Sequential()\n",
    "model.add(Dense(500, activation='relu', input_dim=100))\n",
    "model.add(Dense(100, activation='relu'))\n",
    "model.add(Dense(50, activation='relu'))\n",
    "model.add(Dense(2, activation='softmax'))\n",
    "\n",
    "\n",
    "# Compile the model\n",
    "sgd = keras.optimizers.SGD(lr=0.5, momentum=0.9, nesterov=True)\n",
    "model.compile(optimizer='sgd', \n",
    "              loss='categorical_crossentropy', \n",
    "              metrics=['accuracy'])"
   ]
  },
  {
   "cell_type": "code",
   "execution_count": 121,
   "metadata": {},
   "outputs": [
    {
     "name": "stdout",
     "output_type": "stream",
     "text": [
      "Epoch 1/30\n",
      "2547/2547 [==============================] - 3s 1ms/step - loss: 0.6885 - accuracy: 0.5468 - val_loss: 0.6710 - val_accuracy: 0.5883\n",
      "Epoch 2/30\n",
      "2547/2547 [==============================] - 2s 957us/step - loss: 0.6634 - accuracy: 0.5980 - val_loss: 0.6490 - val_accuracy: 0.6139\n",
      "Epoch 3/30\n",
      "2547/2547 [==============================] - 2s 964us/step - loss: 0.6480 - accuracy: 0.6125 - val_loss: 0.6405 - val_accuracy: 0.6231\n",
      "Epoch 4/30\n",
      "2547/2547 [==============================] - 2s 974us/step - loss: 0.6375 - accuracy: 0.6252 - val_loss: 0.6384 - val_accuracy: 0.6328\n",
      "Epoch 5/30\n",
      "2547/2547 [==============================] - 2s 962us/step - loss: 0.6317 - accuracy: 0.6320 - val_loss: 0.6295 - val_accuracy: 0.6286\n",
      "Epoch 6/30\n",
      "2547/2547 [==============================] - 2s 964us/step - loss: 0.6238 - accuracy: 0.6411 - val_loss: 0.6172 - val_accuracy: 0.6501\n",
      "Epoch 7/30\n",
      "2547/2547 [==============================] - 2s 959us/step - loss: 0.6106 - accuracy: 0.6567 - val_loss: 0.6043 - val_accuracy: 0.6595\n",
      "Epoch 8/30\n",
      "2547/2547 [==============================] - 2s 968us/step - loss: 0.5948 - accuracy: 0.6703 - val_loss: 0.6013 - val_accuracy: 0.6417\n",
      "Epoch 9/30\n",
      "2547/2547 [==============================] - 2s 959us/step - loss: 0.5710 - accuracy: 0.6927 - val_loss: 0.5546 - val_accuracy: 0.6943\n",
      "Epoch 10/30\n",
      "2547/2547 [==============================] - 2s 957us/step - loss: 0.5413 - accuracy: 0.7146 - val_loss: 0.5476 - val_accuracy: 0.6885\n",
      "Epoch 11/30\n",
      "2547/2547 [==============================] - 2s 971us/step - loss: 0.5183 - accuracy: 0.7276 - val_loss: 0.8973 - val_accuracy: 0.5699\n",
      "Epoch 12/30\n",
      "2547/2547 [==============================] - 2s 975us/step - loss: 0.4956 - accuracy: 0.7397 - val_loss: 0.4878 - val_accuracy: 0.7490\n",
      "Epoch 13/30\n",
      "2547/2547 [==============================] - 3s 979us/step - loss: 0.4796 - accuracy: 0.7496 - val_loss: 0.5982 - val_accuracy: 0.6851\n",
      "Epoch 14/30\n",
      "2547/2547 [==============================] - 2s 971us/step - loss: 0.4565 - accuracy: 0.7604 - val_loss: 0.4515 - val_accuracy: 0.7637\n",
      "Epoch 15/30\n",
      "2547/2547 [==============================] - 2s 970us/step - loss: 0.4466 - accuracy: 0.7647 - val_loss: 0.4930 - val_accuracy: 0.7495\n",
      "Epoch 16/30\n",
      "2547/2547 [==============================] - 2s 961us/step - loss: 0.4299 - accuracy: 0.7734 - val_loss: 0.6341 - val_accuracy: 0.6762\n",
      "Epoch 17/30\n",
      "2547/2547 [==============================] - 2s 951us/step - loss: 0.4187 - accuracy: 0.7766 - val_loss: 0.4391 - val_accuracy: 0.7754\n",
      "Epoch 18/30\n",
      "2547/2547 [==============================] - 2s 961us/step - loss: 0.4150 - accuracy: 0.7825 - val_loss: 0.6920 - val_accuracy: 0.6834\n",
      "Epoch 19/30\n",
      "2547/2547 [==============================] - 2s 965us/step - loss: 0.4022 - accuracy: 0.7862 - val_loss: 0.4381 - val_accuracy: 0.7754\n",
      "Epoch 20/30\n",
      "2547/2547 [==============================] - 2s 971us/step - loss: 0.3904 - accuracy: 0.7902 - val_loss: 0.5573 - val_accuracy: 0.7044\n",
      "Epoch 21/30\n",
      "2547/2547 [==============================] - 2s 960us/step - loss: 0.3871 - accuracy: 0.7932 - val_loss: 0.4535 - val_accuracy: 0.7711\n",
      "Epoch 22/30\n",
      "2547/2547 [==============================] - 2s 961us/step - loss: 0.3814 - accuracy: 0.7946 - val_loss: 0.7326 - val_accuracy: 0.6596\n",
      "Epoch 23/30\n",
      "2547/2547 [==============================] - 2s 963us/step - loss: 0.3718 - accuracy: 0.7985 - val_loss: 0.4589 - val_accuracy: 0.7665\n",
      "Epoch 24/30\n",
      "2547/2547 [==============================] - 2s 956us/step - loss: 0.3674 - accuracy: 0.8011 - val_loss: 0.5446 - val_accuracy: 0.7285\n",
      "Epoch 25/30\n",
      "2547/2547 [==============================] - 2s 973us/step - loss: 0.3632 - accuracy: 0.8015 - val_loss: 0.3961 - val_accuracy: 0.7791\n",
      "Epoch 26/30\n",
      "2547/2547 [==============================] - 2s 972us/step - loss: 0.3573 - accuracy: 0.8043 - val_loss: 0.7467 - val_accuracy: 0.6622\n",
      "Epoch 27/30\n",
      "2547/2547 [==============================] - 2s 966us/step - loss: 0.3569 - accuracy: 0.8063 - val_loss: 0.5519 - val_accuracy: 0.7182\n",
      "Epoch 28/30\n",
      "2547/2547 [==============================] - 2s 966us/step - loss: 0.3487 - accuracy: 0.8099 - val_loss: 0.4080 - val_accuracy: 0.7878\n",
      "Epoch 29/30\n",
      "2547/2547 [==============================] - 2s 964us/step - loss: 0.3445 - accuracy: 0.8119 - val_loss: 0.3793 - val_accuracy: 0.7855\n",
      "Epoch 30/30\n",
      "2547/2547 [==============================] - 2s 956us/step - loss: 0.3382 - accuracy: 0.8154 - val_loss: 0.3820 - val_accuracy: 0.7993\n"
     ]
    },
    {
     "data": {
      "text/plain": [
       "<tensorflow.python.keras.callbacks.History at 0x16151d7f8b0>"
      ]
     },
     "execution_count": 121,
     "metadata": {},
     "output_type": "execute_result"
    }
   ],
   "source": [
    "\n",
    "from keras import callbacks\n",
    "earlystopping = callbacks.EarlyStopping(monitor =\"val_loss\", \n",
    "                                        mode =\"min\", patience = 5, \n",
    "                                        restore_best_weights = True)\n",
    "\n",
    "model.fit(X_train,y_train,epochs=30,validation_split=0.4)"
   ]
  },
  {
   "cell_type": "code",
   "execution_count": 128,
   "metadata": {},
   "outputs": [
    {
     "name": "stdout",
     "output_type": "stream",
     "text": [
      "Accuracy on training data: 0.8157510757446289\n",
      "Accuracy on test data: 0.7983799576759338\n"
     ]
    }
   ],
   "source": [
    "pred_train= model.predict(X_train)\n",
    "scores = model.evaluate(X_train, y_train, verbose=0)\n",
    "\n",
    "print('Accuracy on training data: {}'.format(scores[1]))   \n",
    " \n",
    "pred_test= model.predict(X_test)\n",
    "scores2 = model.evaluate(X_test, y_test, verbose=0)\n",
    "print('Accuracy on test data: {}'.format(scores2[1]))    "
   ]
  },
  {
   "cell_type": "markdown",
   "metadata": {},
   "source": [
    "# Conclusion\n",
    "- Adding more layers definitely improved the accuracy of NN model from 50% to 80%. \n",
    "- So far Random Forest Classifer still yields better result by 2%. \n",
    "- Perhaps with more tunning NN might perform better. "
   ]
  },
  {
   "cell_type": "code",
   "execution_count": null,
   "metadata": {},
   "outputs": [],
   "source": []
  },
  {
   "cell_type": "code",
   "execution_count": null,
   "metadata": {},
   "outputs": [],
   "source": []
  },
  {
   "cell_type": "code",
   "execution_count": null,
   "metadata": {},
   "outputs": [],
   "source": []
  },
  {
   "cell_type": "markdown",
   "metadata": {},
   "source": [
    "# Self-defined functions "
   ]
  },
  {
   "cell_type": "code",
   "execution_count": 35,
   "metadata": {},
   "outputs": [],
   "source": [
    "\n",
    "# other evaluation metrics:\n",
    "def evaluate(y_test,y_pred):\n",
    "    \n",
    "    print('Accuracy score test set: ', accuracy_score(y_test, y_pred))\n",
    "    print('-'*40)\n",
    "    \n",
    "    print('Confusion matrix test set: \\n', confusion_matrix(y_test, y_pred)/len(y_test))\n",
    "    print('-' *40)\n",
    "    \n",
    "    print('Accuracy = {:.5f}'.format(accuracy_score(y_test, y_pred)))\n",
    "    print('Precision = {:.5f}'.format(metrics.precision_score(y_test,y_pred)))\n",
    "    print('Recall = {:.5f}'.format(metrics.recall_score(y_test, y_pred)))\n",
    "    print('F1 score = {:.5f}'.format(metrics.f1_score(y_test, y_pred)))\n",
    "\n",
    "    print('\\nClassification Report')\n",
    "    print(metrics.classification_report(y_test, y_pred))"
   ]
  },
  {
   "cell_type": "code",
   "execution_count": 36,
   "metadata": {},
   "outputs": [
    {
     "name": "stderr",
     "output_type": "stream",
     "text": [
      "C:\\Users\\annab\\Anaconda3\\envs\\ads08\\lib\\site-packages\\statsmodels\\tools\\_testing.py:19: FutureWarning: pandas.util.testing is deprecated. Use the functions in the public API at pandas.testing instead.\n",
      "  import pandas.util.testing as tm\n"
     ]
    }
   ],
   "source": [
    "# Evaluate\n",
    "from sklearn.metrics import recall_score\n",
    "import seaborn as sns\n",
    "def evaluate_vision(y_test,preds):\n",
    "    print(f'Accuracy = {accuracy_score(y_test, preds):.2f}\\nRecall = {recall_score(y_test, preds):.2f}\\n')\n",
    "    cm = confusion_matrix(y_test, preds)\n",
    "    plt.figure(figsize=(8, 6))\n",
    "    plt.title('Confusion Matrix (without SMOTE)', size=16)\n",
    "    sns.heatmap(cm, annot=True, cmap='Blues');"
   ]
  },
  {
   "cell_type": "code",
   "execution_count": null,
   "metadata": {},
   "outputs": [],
   "source": []
  }
 ],
 "metadata": {
  "kernelspec": {
   "display_name": "Python 3",
   "language": "python",
   "name": "python3"
  },
  "language_info": {
   "codemirror_mode": {
    "name": "ipython",
    "version": 3
   },
   "file_extension": ".py",
   "mimetype": "text/x-python",
   "name": "python",
   "nbconvert_exporter": "python",
   "pygments_lexer": "ipython3",
   "version": "3.6.8"
  }
 },
 "nbformat": 4,
 "nbformat_minor": 2
}
